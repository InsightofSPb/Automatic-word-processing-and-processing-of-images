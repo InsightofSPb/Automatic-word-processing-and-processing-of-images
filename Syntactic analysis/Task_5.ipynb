{
  "nbformat": 4,
  "nbformat_minor": 0,
  "metadata": {
    "colab": {
      "provenance": [],
      "authorship_tag": "ABX9TyN5IrlS87Jh13/qYlaJheD1",
      "include_colab_link": true
    },
    "kernelspec": {
      "name": "python3",
      "display_name": "Python 3"
    },
    "language_info": {
      "name": "python"
    }
  },
  "cells": [
    {
      "cell_type": "markdown",
      "metadata": {
        "id": "view-in-github",
        "colab_type": "text"
      },
      "source": [
        "<a href=\"https://colab.research.google.com/github/InsightofSPb/Automatic-word-processing-and-processing-of-images/blob/main/Task_5.ipynb\" target=\"_parent\"><img src=\"https://colab.research.google.com/assets/colab-badge.svg\" alt=\"Open In Colab\"/></a>"
      ]
    },
    {
      "cell_type": "markdown",
      "source": [
        "В этом задании мы рассмотрим работу UDpipe с двумя моделями:\n",
        "\n",
        "предварительно обученной на SynTagRus https://universaldependencies.org/treebanks/ru_syntagrus/index.html \\\n",
        "обученной на Taiga https://universaldependencies.org/treebanks/ru_taiga/index.html \\\n",
        "\n",
        "\n",
        "# **Подключение необходимых модулей**"
      ],
      "metadata": {
        "id": "zu0zpijRAgky"
      }
    },
    {
      "cell_type": "code",
      "source": [
        "! pip install -q conllu\n",
        "! pip install -q graphviz\n",
        "! pip install -q ufal.udpipe\n",
        "!wget -q 'https://lindat.mff.cuni.cz/repository/xmlui/bitstream/handle/11234/1-3131/russian-syntagrus-ud-2.5-191206.udpipe'\n",
        "!wget -q 'https://lindat.mff.cuni.cz/repository/xmlui/bitstream/handle/11234/1-3131/russian-taiga-ud-2.5-191206.udpipe'\n"
      ],
      "metadata": {
        "id": "7eza_IkJduZS"
      },
      "execution_count": 56,
      "outputs": []
    },
    {
      "cell_type": "markdown",
      "source": [
        "# Подключение библиотек"
      ],
      "metadata": {
        "id": "hXTojrctAuMw"
      }
    },
    {
      "cell_type": "code",
      "source": [
        "import sys\n",
        "from conllu import parse  # парсер, создающий вложенный словарь\n",
        "from graphviz import Digraph, Source  # для отрисовки деревьев\n",
        "from ufal.udpipe import Model, Pipeline, ProcessingError  # UDPipe\n"
      ],
      "metadata": {
        "id": "ZThr6uyHdv2u"
      },
      "execution_count": 57,
      "outputs": []
    },
    {
      "cell_type": "markdown",
      "source": [
        "# Загрузка модулей"
      ],
      "metadata": {
        "id": "3fv0NlACA9QC"
      }
    },
    {
      "cell_type": "code",
      "source": [
        "\n",
        "# Скачиваем необходимые для дальнейшей работы материалы\n",
        "\n",
        "# url1 = 'https://lindat.mff.cuni.cz/repository/xmlui/bitstream/handle/11234/1-3131/russian-syntagrus-ud-2.5-191206.udpipe'\n",
        "# url2 = 'https://lindat.mff.cuni.cz/repository/xmlui/bitstream/handle/11234/1-3131/russian-taiga-ud-2.5-191206.udpipe'\n",
        "\n"
      ],
      "metadata": {
        "id": "jpX6-LhIeQD5"
      },
      "execution_count": 58,
      "outputs": []
    },
    {
      "cell_type": "markdown",
      "source": [
        "# Настройка работы с моделями"
      ],
      "metadata": {
        "id": "GvHx5BXKBDY-"
      }
    },
    {
      "cell_type": "code",
      "source": [
        "\n",
        "# Функция для загрузки моделей на основе текстов. Обучение\n",
        "def loading():\n",
        "    syntagrus_model_file = \"russian-syntagrus-ud-2.5-191206.udpipe\"  # корпус русского языка с человеческими правками\n",
        "    taiga_model_file = 'russian-taiga-ud-2.5-191206.udpipe'  # набор текстов от Вышки, учитывающих то, чего нет в Syntagrus\n",
        "\n",
        "    print(\"Loading model:\" + syntagrus_model_file)\n",
        "    syntagrus_model = Model.load(syntagrus_model_file)\n",
        "    print(\"Loading done\")\n",
        "\n",
        "    print(\"Loading model:\" + taiga_model_file)\n",
        "    taiga_model = Model.load(taiga_model_file)\n",
        "    print(\"Loading done\")\n",
        "    return syntagrus_model, taiga_model\n",
        "\n",
        "\n",
        "syn, taig = loading()"
      ],
      "metadata": {
        "colab": {
          "base_uri": "https://localhost:8080/"
        },
        "id": "9rg4-17yeUT8",
        "outputId": "055acee9-8d84-4419-c3d8-f86ecc5f4422"
      },
      "execution_count": 59,
      "outputs": [
        {
          "output_type": "stream",
          "name": "stdout",
          "text": [
            "Loading model:russian-syntagrus-ud-2.5-191206.udpipe\n",
            "Loading done\n",
            "Loading model:russian-taiga-ud-2.5-191206.udpipe\n",
            "Loading done\n"
          ]
        }
      ]
    },
    {
      "cell_type": "markdown",
      "source": [
        "# Построение цепочки обработки\n",
        "Строим цепочку обработки -- от сырого текста до синтаксического дерева"
      ],
      "metadata": {
        "id": "82Aj7OArBGk6"
      }
    },
    {
      "cell_type": "code",
      "source": [
        "input_format = \"tokenize\"\n",
        "output_format = \"conllu\"\n",
        "\n",
        "# Pipeline(given model, input, tagger, parser, output)\n",
        "# In general, pipeline - a sequence of data processing mechanisms\n",
        "# Применяем обработку к сырому тексту\n",
        "syntag_pipeline = Pipeline(syn, input_format, Pipeline.DEFAULT, Pipeline.DEFAULT, output_format)\n",
        "taiga_pipeline = Pipeline(taig, input_format, Pipeline.DEFAULT, Pipeline.DEFAULT, output_format)\n",
        "\n",
        "error = ProcessingError()"
      ],
      "metadata": {
        "id": "KTQwowI7eW9Y"
      },
      "execution_count": 60,
      "outputs": []
    },
    {
      "cell_type": "markdown",
      "source": [
        "Применение собственно цепочки обработки к сырому тексту; вывод в формате CoNLL-U."
      ],
      "metadata": {
        "id": "5GW3rMbHBKRP"
      }
    },
    {
      "cell_type": "code",
      "source": [
        "# Применяем цепочки обработки к сырому тексту. Первая переменная - предложение, второя - цепочка обработки\n",
        "def parse_syntax(raw_text, pipeline):\n",
        "    \"\"\" Applying UDPipe \"\"\"\n",
        "    text = raw_text.strip()  # убираем лишние пробелы\n",
        "    processed = pipeline.process(text, error)\n",
        "    # Process the given input stream, writing results to the given output stream. If the processing succeeded, true\n",
        "    # is returned; otherwise, false is returned with an error stored in the error argument.\n",
        "    if error.occurred():\n",
        "        sys.stderr.write(\"An error occurred when running run_udpipe: \")  # сообщение об ошибках\n",
        "        sys.stderr.write(error.message)\n",
        "        sys.stderr.write(\"\\n\")\n",
        "    return processed\n",
        "\n",
        "\n",
        "# Проводим разбор предложений\n",
        "syntag = parse_syntax(\"Сегодня даже численность населения этого государства является относительной величиной .\", syntag_pipeline)\n",
        "taiga = parse_syntax(\"Сегодня даже численность населения этого государства является относительной величиной .\", taiga_pipeline)\n"
      ],
      "metadata": {
        "id": "lofx9_0YeZGo"
      },
      "execution_count": 61,
      "outputs": []
    },
    {
      "cell_type": "markdown",
      "source": [
        "# **Графововое представление дерева разбора**\n",
        "Методами библиотеки `conllu` превращаем выданный нам udpipe разбор в формате CoNLL-U в дерево, с которым удобно работать.\n",
        "\n",
        "С помощью стандартного обхода в ширину наполняем рёбрами объект `Digraph` для последующей визуализации дерева с помощью `graphviz`."
      ],
      "metadata": {
        "id": "EUXmrsD2BRkL"
      }
    },
    {
      "cell_type": "code",
      "source": [
        "def parse_output(conll):\n",
        "    sentences = parse(conll)\n",
        "    return [s.to_tree() for s in sentences]  # to.tree() - turning TokenList to TokenTree\n",
        "\n"
      ],
      "metadata": {
        "id": "_BXf2cx6glkz"
      },
      "execution_count": 62,
      "outputs": []
    },
    {
      "cell_type": "markdown",
      "source": [
        "Реализовывается алгоритм обхода по ширине.\n",
        "С помощью конструктора задаётся элемент `(0)` в дереве, он же добавляется в очередь `queue`. Дальше идёт цикл: элемент из очереди удаляется, но записывается в переменную, и он красиво оформляется (см. любой лепесток). При этом у каждого такого элемента (объекта класса) есть атрибут `children` - дети. Список этих детей получается ещё при парсинге в `parse_output`. Для каждого такого ребёнка красивое оформление предусмотрено 2-м циклом. \\\n",
        "У нас снова в очереди есть элемент - `Порвались`. С ним проделываем то же самое - возвращаем, удаляя из очереди, но в очередь пишем его детей. Их также оформляем. Алгоритм работает, пока не дойдём донизу дерева, где уже нет детей"
      ],
      "metadata": {
        "id": "3Sxm1BSsqSXr"
      }
    },
    {
      "cell_type": "code",
      "execution_count": 72,
      "metadata": {
        "colab": {
          "base_uri": "https://localhost:8080/",
          "height": 660
        },
        "id": "byr3yLbdKUag",
        "outputId": "ebc55475-3927-406e-a306-8e0d92537a26"
      },
      "outputs": [
        {
          "output_type": "execute_result",
          "data": {
            "text/plain": [
              "<graphviz.dot.Digraph at 0x7f5e46f3e1c0>"
            ],
            "image/svg+xml": "<?xml version=\"1.0\" encoding=\"UTF-8\" standalone=\"no\"?>\n<!DOCTYPE svg PUBLIC \"-//W3C//DTD SVG 1.1//EN\"\n \"http://www.w3.org/Graphics/SVG/1.1/DTD/svg11.dtd\">\n<!-- Generated by graphviz version 2.43.0 (0)\n -->\n<!-- Title: %3 Pages: 1 -->\n<svg width=\"506pt\" height=\"479pt\"\n viewBox=\"0.00 0.00 505.79 479.00\" xmlns=\"http://www.w3.org/2000/svg\" xmlns:xlink=\"http://www.w3.org/1999/xlink\">\n<g id=\"graph0\" class=\"graph\" transform=\"scale(1 1) rotate(0) translate(4 475)\">\n<title>%3</title>\n<polygon fill=\"white\" stroke=\"transparent\" points=\"-4,4 -4,-475 501.79,-475 501.79,4 -4,4\"/>\n<!--  (0) -->\n<g id=\"node1\" class=\"node\">\n<title> (0)</title>\n<ellipse fill=\"none\" stroke=\"black\" cx=\"296.25\" cy=\"-453\" rx=\"27\" ry=\"18\"/>\n<text text-anchor=\"middle\" x=\"296.25\" y=\"-449.3\" font-family=\"Times,serif\" font-size=\"14.00\"> (0)</text>\n</g>\n<!-- является (7) -->\n<g id=\"node2\" class=\"node\">\n<title>является (7)</title>\n<ellipse fill=\"none\" stroke=\"black\" cx=\"296.25\" cy=\"-366\" rx=\"57.39\" ry=\"18\"/>\n<text text-anchor=\"middle\" x=\"296.25\" y=\"-362.3\" font-family=\"Times,serif\" font-size=\"14.00\">является (7)</text>\n</g>\n<!--  (0)&#45;&gt;является (7) -->\n<g id=\"edge1\" class=\"edge\">\n<title> (0)&#45;&gt;является (7)</title>\n<path fill=\"none\" stroke=\"black\" d=\"M296.25,-434.8C296.25,-423.16 296.25,-407.55 296.25,-394.24\"/>\n<polygon fill=\"black\" stroke=\"black\" points=\"299.75,-394.18 296.25,-384.18 292.75,-394.18 299.75,-394.18\"/>\n<text text-anchor=\"middle\" x=\"307.25\" y=\"-405.8\" font-family=\"Times,serif\" font-size=\"14.00\">root</text>\n</g>\n<!-- Сегодня (1) -->\n<g id=\"node3\" class=\"node\">\n<title>Сегодня (1)</title>\n<ellipse fill=\"none\" stroke=\"black\" cx=\"55.25\" cy=\"-279\" rx=\"55.49\" ry=\"18\"/>\n<text text-anchor=\"middle\" x=\"55.25\" y=\"-275.3\" font-family=\"Times,serif\" font-size=\"14.00\">Сегодня (1)</text>\n</g>\n<!-- является (7)&#45;&gt;Сегодня (1) -->\n<g id=\"edge2\" class=\"edge\">\n<title>является (7)&#45;&gt;Сегодня (1)</title>\n<path fill=\"none\" stroke=\"black\" d=\"M258.9,-352.33C239.57,-345.74 215.62,-337.51 194.25,-330 162.78,-318.94 127.42,-306.22 100.24,-296.37\"/>\n<polygon fill=\"black\" stroke=\"black\" points=\"101.21,-293 90.62,-292.89 98.82,-299.58 101.21,-293\"/>\n<text text-anchor=\"middle\" x=\"216.75\" y=\"-318.8\" font-family=\"Times,serif\" font-size=\"14.00\">advmod</text>\n</g>\n<!-- численность (3) -->\n<g id=\"node4\" class=\"node\">\n<title>численность (3)</title>\n<ellipse fill=\"none\" stroke=\"black\" cx=\"200.25\" cy=\"-279\" rx=\"71.49\" ry=\"18\"/>\n<text text-anchor=\"middle\" x=\"200.25\" y=\"-275.3\" font-family=\"Times,serif\" font-size=\"14.00\">численность (3)</text>\n</g>\n<!-- является (7)&#45;&gt;численность (3) -->\n<g id=\"edge3\" class=\"edge\">\n<title>является (7)&#45;&gt;численность (3)</title>\n<path fill=\"none\" stroke=\"black\" d=\"M277.74,-348.61C263.22,-335.76 242.83,-317.71 226.61,-303.34\"/>\n<polygon fill=\"black\" stroke=\"black\" points=\"228.83,-300.64 219.03,-296.63 224.19,-305.88 228.83,-300.64\"/>\n<text text-anchor=\"middle\" x=\"269.25\" y=\"-318.8\" font-family=\"Times,serif\" font-size=\"14.00\">nsubj</text>\n</g>\n<!-- величиной (9) -->\n<g id=\"node5\" class=\"node\">\n<title>величиной (9)</title>\n<ellipse fill=\"none\" stroke=\"black\" cx=\"354.25\" cy=\"-279\" rx=\"64.19\" ry=\"18\"/>\n<text text-anchor=\"middle\" x=\"354.25\" y=\"-275.3\" font-family=\"Times,serif\" font-size=\"14.00\">величиной (9)</text>\n</g>\n<!-- является (7)&#45;&gt;величиной (9) -->\n<g id=\"edge4\" class=\"edge\">\n<title>является (7)&#45;&gt;величиной (9)</title>\n<path fill=\"none\" stroke=\"black\" d=\"M307.7,-348.21C316.05,-335.98 327.49,-319.21 336.94,-305.36\"/>\n<polygon fill=\"black\" stroke=\"black\" points=\"340.06,-306.99 342.81,-296.76 334.28,-303.05 340.06,-306.99\"/>\n<text text-anchor=\"middle\" x=\"338.25\" y=\"-318.8\" font-family=\"Times,serif\" font-size=\"14.00\">obl</text>\n</g>\n<!-- . (10) -->\n<g id=\"node6\" class=\"node\">\n<title>. (10)</title>\n<ellipse fill=\"none\" stroke=\"black\" cx=\"467.25\" cy=\"-279\" rx=\"30.59\" ry=\"18\"/>\n<text text-anchor=\"middle\" x=\"467.25\" y=\"-275.3\" font-family=\"Times,serif\" font-size=\"14.00\">. (10)</text>\n</g>\n<!-- является (7)&#45;&gt;. (10) -->\n<g id=\"edge5\" class=\"edge\">\n<title>является (7)&#45;&gt;. (10)</title>\n<path fill=\"none\" stroke=\"black\" d=\"M325.64,-350.39C356.19,-335.2 403.85,-311.51 435.3,-295.88\"/>\n<polygon fill=\"black\" stroke=\"black\" points=\"437.11,-298.89 444.51,-291.3 434,-292.62 437.11,-298.89\"/>\n<text text-anchor=\"middle\" x=\"407.75\" y=\"-318.8\" font-family=\"Times,serif\" font-size=\"14.00\">punct</text>\n</g>\n<!-- даже (2) -->\n<g id=\"node8\" class=\"node\">\n<title>даже (2)</title>\n<ellipse fill=\"none\" stroke=\"black\" cx=\"77.25\" cy=\"-192\" rx=\"42.49\" ry=\"18\"/>\n<text text-anchor=\"middle\" x=\"77.25\" y=\"-188.3\" font-family=\"Times,serif\" font-size=\"14.00\">даже (2)</text>\n</g>\n<!-- численность (3)&#45;&gt;даже (2) -->\n<g id=\"edge7\" class=\"edge\">\n<title>численность (3)&#45;&gt;даже (2)</title>\n<path fill=\"none\" stroke=\"black\" d=\"M176.82,-261.81C156.97,-248.1 128.4,-228.35 106.95,-213.53\"/>\n<polygon fill=\"black\" stroke=\"black\" points=\"108.74,-210.51 98.53,-207.71 104.76,-216.27 108.74,-210.51\"/>\n<text text-anchor=\"middle\" x=\"168.75\" y=\"-231.8\" font-family=\"Times,serif\" font-size=\"14.00\">advmod</text>\n</g>\n<!-- населения (4) -->\n<g id=\"node9\" class=\"node\">\n<title>населения (4)</title>\n<ellipse fill=\"none\" stroke=\"black\" cx=\"200.25\" cy=\"-192\" rx=\"63.09\" ry=\"18\"/>\n<text text-anchor=\"middle\" x=\"200.25\" y=\"-188.3\" font-family=\"Times,serif\" font-size=\"14.00\">населения (4)</text>\n</g>\n<!-- численность (3)&#45;&gt;населения (4) -->\n<g id=\"edge8\" class=\"edge\">\n<title>численность (3)&#45;&gt;населения (4)</title>\n<path fill=\"none\" stroke=\"black\" d=\"M200.25,-260.8C200.25,-249.16 200.25,-233.55 200.25,-220.24\"/>\n<polygon fill=\"black\" stroke=\"black\" points=\"203.75,-220.18 200.25,-210.18 196.75,-220.18 203.75,-220.18\"/>\n<text text-anchor=\"middle\" x=\"216.25\" y=\"-231.8\" font-family=\"Times,serif\" font-size=\"14.00\">nmod</text>\n</g>\n<!-- относительной (8) -->\n<g id=\"node7\" class=\"node\">\n<title>относительной (8)</title>\n<ellipse fill=\"none\" stroke=\"black\" cx=\"362.25\" cy=\"-192\" rx=\"81.49\" ry=\"18\"/>\n<text text-anchor=\"middle\" x=\"362.25\" y=\"-188.3\" font-family=\"Times,serif\" font-size=\"14.00\">относительной (8)</text>\n</g>\n<!-- величиной (9)&#45;&gt;относительной (8) -->\n<g id=\"edge6\" class=\"edge\">\n<title>величиной (9)&#45;&gt;относительной (8)</title>\n<path fill=\"none\" stroke=\"black\" d=\"M355.86,-260.8C356.96,-249.16 358.43,-233.55 359.68,-220.24\"/>\n<polygon fill=\"black\" stroke=\"black\" points=\"363.18,-220.46 360.63,-210.18 356.21,-219.8 363.18,-220.46\"/>\n<text text-anchor=\"middle\" x=\"374.75\" y=\"-231.8\" font-family=\"Times,serif\" font-size=\"14.00\">amod</text>\n</g>\n<!-- государства (6) -->\n<g id=\"node10\" class=\"node\">\n<title>государства (6)</title>\n<ellipse fill=\"none\" stroke=\"black\" cx=\"200.25\" cy=\"-105\" rx=\"68.49\" ry=\"18\"/>\n<text text-anchor=\"middle\" x=\"200.25\" y=\"-101.3\" font-family=\"Times,serif\" font-size=\"14.00\">государства (6)</text>\n</g>\n<!-- населения (4)&#45;&gt;государства (6) -->\n<g id=\"edge9\" class=\"edge\">\n<title>населения (4)&#45;&gt;государства (6)</title>\n<path fill=\"none\" stroke=\"black\" d=\"M200.25,-173.8C200.25,-162.16 200.25,-146.55 200.25,-133.24\"/>\n<polygon fill=\"black\" stroke=\"black\" points=\"203.75,-133.18 200.25,-123.18 196.75,-133.18 203.75,-133.18\"/>\n<text text-anchor=\"middle\" x=\"216.25\" y=\"-144.8\" font-family=\"Times,serif\" font-size=\"14.00\">nmod</text>\n</g>\n<!-- этого (5) -->\n<g id=\"node11\" class=\"node\">\n<title>этого (5)</title>\n<ellipse fill=\"none\" stroke=\"black\" cx=\"200.25\" cy=\"-18\" rx=\"43.59\" ry=\"18\"/>\n<text text-anchor=\"middle\" x=\"200.25\" y=\"-14.3\" font-family=\"Times,serif\" font-size=\"14.00\">этого (5)</text>\n</g>\n<!-- государства (6)&#45;&gt;этого (5) -->\n<g id=\"edge10\" class=\"edge\">\n<title>государства (6)&#45;&gt;этого (5)</title>\n<path fill=\"none\" stroke=\"black\" d=\"M200.25,-86.8C200.25,-75.16 200.25,-59.55 200.25,-46.24\"/>\n<polygon fill=\"black\" stroke=\"black\" points=\"203.75,-46.18 200.25,-36.18 196.75,-46.18 203.75,-46.18\"/>\n<text text-anchor=\"middle\" x=\"208.75\" y=\"-57.8\" font-family=\"Times,serif\" font-size=\"14.00\">det</text>\n</g>\n</g>\n</svg>\n"
          },
          "metadata": {},
          "execution_count": 72
        }
      ],
      "source": [
        "class Root(object):\n",
        "    def __init__(self, child):\n",
        "        self.token = {\"form\": \"\", \"id\": 0, \"deprel\": \"root\"}\n",
        "        self.children = [child]\n",
        "\n",
        "\n",
        "def draw_tree(tree):\n",
        "    g = Digraph(format='png')  # node - лепесток, edge - ветка\n",
        "\n",
        "    queue = [Root(tree)]  # очередь по типу FIFO, для обхода по дереву\n",
        "\n",
        "    while len(queue) > 0:  # реализация алгоритма обхода в ширину\n",
        "\n",
        "        head = queue.pop()  # возвращает последний элемент, удаляя его при этом\n",
        "        head_label = head.token[\"form\"] + \" (%d)\" % head.token[\"id\"]  #надпись\n",
        "        # на лепестке - само слово + его номер\n",
        "        queue.extend(head.children)\n",
        "\n",
        "        for c in head.children:\n",
        "            c_label = c.token[\"form\"] + \" (%d)\" % c.token[\"id\"]\n",
        "            g.edge(head_label, c_label, label=c.token[\"deprel\"])  # часть речи\n",
        "            # между двумя лепестками\n",
        "\n",
        "    return g\n",
        "\n",
        "\n",
        "str_tree = parse_output(syntag.strip())[0]  # применяем парсер к предложению\n",
        "taiga_tree = parse_output(taiga.strip())[0]\n",
        "draw_tree(str_tree)  # рисуем дерево\n"
      ]
    },
    {
      "cell_type": "code",
      "source": [
        "draw_tree(taiga_tree)"
      ],
      "metadata": {
        "colab": {
          "base_uri": "https://localhost:8080/",
          "height": 660
        },
        "id": "Q_nsajiRemxO",
        "outputId": "30dcc6e8-fb75-4735-e03b-6ea0b071d838"
      },
      "execution_count": 71,
      "outputs": [
        {
          "output_type": "execute_result",
          "data": {
            "text/plain": [
              "<graphviz.dot.Digraph at 0x7f5e46fbcfa0>"
            ],
            "image/svg+xml": "<?xml version=\"1.0\" encoding=\"UTF-8\" standalone=\"no\"?>\n<!DOCTYPE svg PUBLIC \"-//W3C//DTD SVG 1.1//EN\"\n \"http://www.w3.org/Graphics/SVG/1.1/DTD/svg11.dtd\">\n<!-- Generated by graphviz version 2.43.0 (0)\n -->\n<!-- Title: %3 Pages: 1 -->\n<svg width=\"506pt\" height=\"479pt\"\n viewBox=\"0.00 0.00 505.79 479.00\" xmlns=\"http://www.w3.org/2000/svg\" xmlns:xlink=\"http://www.w3.org/1999/xlink\">\n<g id=\"graph0\" class=\"graph\" transform=\"scale(1 1) rotate(0) translate(4 475)\">\n<title>%3</title>\n<polygon fill=\"white\" stroke=\"transparent\" points=\"-4,4 -4,-475 501.79,-475 501.79,4 -4,4\"/>\n<!--  (0) -->\n<g id=\"node1\" class=\"node\">\n<title> (0)</title>\n<ellipse fill=\"none\" stroke=\"black\" cx=\"296.25\" cy=\"-453\" rx=\"27\" ry=\"18\"/>\n<text text-anchor=\"middle\" x=\"296.25\" y=\"-449.3\" font-family=\"Times,serif\" font-size=\"14.00\"> (0)</text>\n</g>\n<!-- является (7) -->\n<g id=\"node2\" class=\"node\">\n<title>является (7)</title>\n<ellipse fill=\"none\" stroke=\"black\" cx=\"296.25\" cy=\"-366\" rx=\"57.39\" ry=\"18\"/>\n<text text-anchor=\"middle\" x=\"296.25\" y=\"-362.3\" font-family=\"Times,serif\" font-size=\"14.00\">является (7)</text>\n</g>\n<!--  (0)&#45;&gt;является (7) -->\n<g id=\"edge1\" class=\"edge\">\n<title> (0)&#45;&gt;является (7)</title>\n<path fill=\"none\" stroke=\"black\" d=\"M296.25,-434.8C296.25,-423.16 296.25,-407.55 296.25,-394.24\"/>\n<polygon fill=\"black\" stroke=\"black\" points=\"299.75,-394.18 296.25,-384.18 292.75,-394.18 299.75,-394.18\"/>\n<text text-anchor=\"middle\" x=\"307.25\" y=\"-405.8\" font-family=\"Times,serif\" font-size=\"14.00\">root</text>\n</g>\n<!-- Сегодня (1) -->\n<g id=\"node3\" class=\"node\">\n<title>Сегодня (1)</title>\n<ellipse fill=\"none\" stroke=\"black\" cx=\"55.25\" cy=\"-279\" rx=\"55.49\" ry=\"18\"/>\n<text text-anchor=\"middle\" x=\"55.25\" y=\"-275.3\" font-family=\"Times,serif\" font-size=\"14.00\">Сегодня (1)</text>\n</g>\n<!-- является (7)&#45;&gt;Сегодня (1) -->\n<g id=\"edge2\" class=\"edge\">\n<title>является (7)&#45;&gt;Сегодня (1)</title>\n<path fill=\"none\" stroke=\"black\" d=\"M258.9,-352.33C239.57,-345.74 215.62,-337.51 194.25,-330 162.78,-318.94 127.42,-306.22 100.24,-296.37\"/>\n<polygon fill=\"black\" stroke=\"black\" points=\"101.21,-293 90.62,-292.89 98.82,-299.58 101.21,-293\"/>\n<text text-anchor=\"middle\" x=\"216.75\" y=\"-318.8\" font-family=\"Times,serif\" font-size=\"14.00\">advmod</text>\n</g>\n<!-- численность (3) -->\n<g id=\"node4\" class=\"node\">\n<title>численность (3)</title>\n<ellipse fill=\"none\" stroke=\"black\" cx=\"200.25\" cy=\"-279\" rx=\"71.49\" ry=\"18\"/>\n<text text-anchor=\"middle\" x=\"200.25\" y=\"-275.3\" font-family=\"Times,serif\" font-size=\"14.00\">численность (3)</text>\n</g>\n<!-- является (7)&#45;&gt;численность (3) -->\n<g id=\"edge3\" class=\"edge\">\n<title>является (7)&#45;&gt;численность (3)</title>\n<path fill=\"none\" stroke=\"black\" d=\"M277.74,-348.61C263.22,-335.76 242.83,-317.71 226.61,-303.34\"/>\n<polygon fill=\"black\" stroke=\"black\" points=\"228.83,-300.64 219.03,-296.63 224.19,-305.88 228.83,-300.64\"/>\n<text text-anchor=\"middle\" x=\"269.25\" y=\"-318.8\" font-family=\"Times,serif\" font-size=\"14.00\">nsubj</text>\n</g>\n<!-- величиной (9) -->\n<g id=\"node5\" class=\"node\">\n<title>величиной (9)</title>\n<ellipse fill=\"none\" stroke=\"black\" cx=\"354.25\" cy=\"-279\" rx=\"64.19\" ry=\"18\"/>\n<text text-anchor=\"middle\" x=\"354.25\" y=\"-275.3\" font-family=\"Times,serif\" font-size=\"14.00\">величиной (9)</text>\n</g>\n<!-- является (7)&#45;&gt;величиной (9) -->\n<g id=\"edge4\" class=\"edge\">\n<title>является (7)&#45;&gt;величиной (9)</title>\n<path fill=\"none\" stroke=\"black\" d=\"M307.7,-348.21C316.05,-335.98 327.49,-319.21 336.94,-305.36\"/>\n<polygon fill=\"black\" stroke=\"black\" points=\"340.06,-306.99 342.81,-296.76 334.28,-303.05 340.06,-306.99\"/>\n<text text-anchor=\"middle\" x=\"340.25\" y=\"-318.8\" font-family=\"Times,serif\" font-size=\"14.00\">iobj</text>\n</g>\n<!-- . (10) -->\n<g id=\"node6\" class=\"node\">\n<title>. (10)</title>\n<ellipse fill=\"none\" stroke=\"black\" cx=\"467.25\" cy=\"-279\" rx=\"30.59\" ry=\"18\"/>\n<text text-anchor=\"middle\" x=\"467.25\" y=\"-275.3\" font-family=\"Times,serif\" font-size=\"14.00\">. (10)</text>\n</g>\n<!-- является (7)&#45;&gt;. (10) -->\n<g id=\"edge5\" class=\"edge\">\n<title>является (7)&#45;&gt;. (10)</title>\n<path fill=\"none\" stroke=\"black\" d=\"M325.64,-350.39C356.19,-335.2 403.85,-311.51 435.3,-295.88\"/>\n<polygon fill=\"black\" stroke=\"black\" points=\"437.11,-298.89 444.51,-291.3 434,-292.62 437.11,-298.89\"/>\n<text text-anchor=\"middle\" x=\"407.75\" y=\"-318.8\" font-family=\"Times,serif\" font-size=\"14.00\">punct</text>\n</g>\n<!-- даже (2) -->\n<g id=\"node8\" class=\"node\">\n<title>даже (2)</title>\n<ellipse fill=\"none\" stroke=\"black\" cx=\"77.25\" cy=\"-192\" rx=\"42.49\" ry=\"18\"/>\n<text text-anchor=\"middle\" x=\"77.25\" y=\"-188.3\" font-family=\"Times,serif\" font-size=\"14.00\">даже (2)</text>\n</g>\n<!-- численность (3)&#45;&gt;даже (2) -->\n<g id=\"edge7\" class=\"edge\">\n<title>численность (3)&#45;&gt;даже (2)</title>\n<path fill=\"none\" stroke=\"black\" d=\"M176.82,-261.81C156.97,-248.1 128.4,-228.35 106.95,-213.53\"/>\n<polygon fill=\"black\" stroke=\"black\" points=\"108.74,-210.51 98.53,-207.71 104.76,-216.27 108.74,-210.51\"/>\n<text text-anchor=\"middle\" x=\"168.75\" y=\"-231.8\" font-family=\"Times,serif\" font-size=\"14.00\">advmod</text>\n</g>\n<!-- населения (4) -->\n<g id=\"node9\" class=\"node\">\n<title>населения (4)</title>\n<ellipse fill=\"none\" stroke=\"black\" cx=\"200.25\" cy=\"-192\" rx=\"63.09\" ry=\"18\"/>\n<text text-anchor=\"middle\" x=\"200.25\" y=\"-188.3\" font-family=\"Times,serif\" font-size=\"14.00\">населения (4)</text>\n</g>\n<!-- численность (3)&#45;&gt;населения (4) -->\n<g id=\"edge8\" class=\"edge\">\n<title>численность (3)&#45;&gt;населения (4)</title>\n<path fill=\"none\" stroke=\"black\" d=\"M200.25,-260.8C200.25,-249.16 200.25,-233.55 200.25,-220.24\"/>\n<polygon fill=\"black\" stroke=\"black\" points=\"203.75,-220.18 200.25,-210.18 196.75,-220.18 203.75,-220.18\"/>\n<text text-anchor=\"middle\" x=\"216.25\" y=\"-231.8\" font-family=\"Times,serif\" font-size=\"14.00\">nmod</text>\n</g>\n<!-- относительной (8) -->\n<g id=\"node7\" class=\"node\">\n<title>относительной (8)</title>\n<ellipse fill=\"none\" stroke=\"black\" cx=\"362.25\" cy=\"-192\" rx=\"81.49\" ry=\"18\"/>\n<text text-anchor=\"middle\" x=\"362.25\" y=\"-188.3\" font-family=\"Times,serif\" font-size=\"14.00\">относительной (8)</text>\n</g>\n<!-- величиной (9)&#45;&gt;относительной (8) -->\n<g id=\"edge6\" class=\"edge\">\n<title>величиной (9)&#45;&gt;относительной (8)</title>\n<path fill=\"none\" stroke=\"black\" d=\"M355.86,-260.8C356.96,-249.16 358.43,-233.55 359.68,-220.24\"/>\n<polygon fill=\"black\" stroke=\"black\" points=\"363.18,-220.46 360.63,-210.18 356.21,-219.8 363.18,-220.46\"/>\n<text text-anchor=\"middle\" x=\"374.75\" y=\"-231.8\" font-family=\"Times,serif\" font-size=\"14.00\">amod</text>\n</g>\n<!-- государства (6) -->\n<g id=\"node10\" class=\"node\">\n<title>государства (6)</title>\n<ellipse fill=\"none\" stroke=\"black\" cx=\"200.25\" cy=\"-105\" rx=\"68.49\" ry=\"18\"/>\n<text text-anchor=\"middle\" x=\"200.25\" y=\"-101.3\" font-family=\"Times,serif\" font-size=\"14.00\">государства (6)</text>\n</g>\n<!-- населения (4)&#45;&gt;государства (6) -->\n<g id=\"edge9\" class=\"edge\">\n<title>населения (4)&#45;&gt;государства (6)</title>\n<path fill=\"none\" stroke=\"black\" d=\"M200.25,-173.8C200.25,-162.16 200.25,-146.55 200.25,-133.24\"/>\n<polygon fill=\"black\" stroke=\"black\" points=\"203.75,-133.18 200.25,-123.18 196.75,-133.18 203.75,-133.18\"/>\n<text text-anchor=\"middle\" x=\"216.25\" y=\"-144.8\" font-family=\"Times,serif\" font-size=\"14.00\">nmod</text>\n</g>\n<!-- этого (5) -->\n<g id=\"node11\" class=\"node\">\n<title>этого (5)</title>\n<ellipse fill=\"none\" stroke=\"black\" cx=\"200.25\" cy=\"-18\" rx=\"43.59\" ry=\"18\"/>\n<text text-anchor=\"middle\" x=\"200.25\" y=\"-14.3\" font-family=\"Times,serif\" font-size=\"14.00\">этого (5)</text>\n</g>\n<!-- государства (6)&#45;&gt;этого (5) -->\n<g id=\"edge10\" class=\"edge\">\n<title>государства (6)&#45;&gt;этого (5)</title>\n<path fill=\"none\" stroke=\"black\" d=\"M200.25,-86.8C200.25,-75.16 200.25,-59.55 200.25,-46.24\"/>\n<polygon fill=\"black\" stroke=\"black\" points=\"203.75,-46.18 200.25,-36.18 196.75,-46.18 203.75,-46.18\"/>\n<text text-anchor=\"middle\" x=\"208.75\" y=\"-57.8\" font-family=\"Times,serif\" font-size=\"14.00\">det</text>\n</g>\n</g>\n</svg>\n"
          },
          "metadata": {},
          "execution_count": 71
        }
      ]
    },
    {
      "cell_type": "markdown",
      "source": [],
      "metadata": {
        "id": "QT53XjDYAZ1W"
      }
    },
    {
      "cell_type": "markdown",
      "source": [
        "# Вычисление LAS и UAS\n",
        "Для этого набираем множества всех рёбер с метками и без и смотрим на размеры пересечений."
      ],
      "metadata": {
        "id": "sMrT8TzxBjAt"
      }
    },
    {
      "cell_type": "code",
      "source": [
        "def edges_sets(tree):\n",
        "    \"\"\" Reading edges encoded as strings \"\"\"\n",
        "\n",
        "    edges_labeled = []\n",
        "    edges_unlabeled = []\n",
        "    queue = [Root(tree)]\n",
        "\n",
        "    while len(queue) > 0:\n",
        "        head = queue.pop()\n",
        "        head_label = head.token[\"form\"] + \" (%d)\" % head.token[\"id\"]\n",
        "        queue.extend(head.children)\n",
        "\n",
        "        for c in head.children:\n",
        "            c_label = c.token[\"form\"] + \" (%d)\" % c.token[\"id\"]\n",
        "            edges_unlabeled.append((head_label, c_label))\n",
        "            edges_labeled.append((head_label, c_label, c.token[\"deprel\"]))\n",
        "\n",
        "    return set(edges_labeled), set(edges_unlabeled)\n",
        "\n",
        "def accuracy(gold, pred):\n",
        "  gold_labeled, gold_unlabeled = edges_sets(gold)\n",
        "  pred_labeled, pred_unlabeled = edges_sets(pred)\n",
        "\n",
        "  return len(gold_labeled.intersection(pred_labeled)) / len(gold_labeled),\\\n",
        "         len(gold_unlabeled.intersection(pred_unlabeled)) / len(gold_unlabeled)\n",
        "\n",
        "\n",
        "LAS, UAS = accuracy(str_tree, taiga_tree)\n",
        "\"LAS: %.4f UAS: %.4f\" % (LAS, UAS)"
      ],
      "metadata": {
        "colab": {
          "base_uri": "https://localhost:8080/",
          "height": 35
        },
        "id": "ZuSavTFTrin9",
        "outputId": "70c659f5-d90c-4e25-b47b-27f74eff8403"
      },
      "execution_count": 68,
      "outputs": [
        {
          "output_type": "execute_result",
          "data": {
            "text/plain": [
              "'LAS: 0.9000 UAS: 1.0000'"
            ],
            "application/vnd.google.colaboratory.intrinsic+json": {
              "type": "string"
            }
          },
          "metadata": {},
          "execution_count": 68
        }
      ]
    },
    {
      "cell_type": "markdown",
      "source": [
        "# Вычисление глубины дерева\n",
        "Вычислим глубину дерева, например, для разбора модели taiga (ребро root не учитывается).\n",
        "Для этого также можно использовать, например, обход в ширину."
      ],
      "metadata": {
        "id": "CEUmMRlCBmBL"
      }
    },
    {
      "cell_type": "code",
      "source": [
        "t = []\n",
        "for i in range(2):\n",
        "    depth = 0\n",
        "    if i == 0:\n",
        "        queue = [(taiga_tree, depth)]\n",
        "        while len(queue) > 0:\n",
        "            head, depth = queue.pop(0)\n",
        "            queue.extend([(c, depth + 1) for c in head.children])\n",
        "    if i == 1:\n",
        "        queue = [(str_tree, depth)]\n",
        "        while len(queue) > 0:\n",
        "            head, depth = queue.pop(0)\n",
        "            queue.extend([(c, depth + 1) for c in head.children])\n",
        "    t.append(depth)\n",
        "print(\"Глубина дерева: \", max(t))"
      ],
      "metadata": {
        "colab": {
          "base_uri": "https://localhost:8080/"
        },
        "id": "fbMrw5_c0h_k",
        "outputId": "719343f1-1c99-4911-aeb5-4133bb6f6c26"
      },
      "execution_count": 70,
      "outputs": [
        {
          "output_type": "stream",
          "name": "stdout",
          "text": [
            "Глубина дерева:  4\n"
          ]
        }
      ]
    }
  ]
}
