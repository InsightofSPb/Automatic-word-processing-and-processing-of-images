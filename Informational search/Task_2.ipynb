{
  "nbformat": 4,
  "nbformat_minor": 0,
  "metadata": {
    "colab": {
      "provenance": [],
      "authorship_tag": "ABX9TyNyn1LrumHmLSWN7uMfGtl7",
      "include_colab_link": true
    },
    "kernelspec": {
      "name": "python3",
      "display_name": "Python 3"
    },
    "language_info": {
      "name": "python"
    }
  },
  "cells": [
    {
      "cell_type": "markdown",
      "metadata": {
        "id": "view-in-github",
        "colab_type": "text"
      },
      "source": [
        "<a href=\"https://colab.research.google.com/github/InsightofSPb/Automatic-word-processing-and-processing-of-images/blob/main/Task_2.ipynb\" target=\"_parent\"><img src=\"https://colab.research.google.com/assets/colab-badge.svg\" alt=\"Open In Colab\"/></a>"
      ]
    },
    {
      "cell_type": "markdown",
      "source": [
        "Скачиваем классический набор данных -- набор текстов об аэронавтике CRANFIELD"
      ],
      "metadata": {
        "id": "AJy2XKOoe6dH"
      }
    },
    {
      "cell_type": "code",
      "execution_count": 111,
      "metadata": {
        "colab": {
          "base_uri": "https://localhost:8080/"
        },
        "id": "JZEK1SxcbBO-",
        "outputId": "150b6eb3-646d-4834-9424-a04aba08f2c6"
      },
      "outputs": [
        {
          "output_type": "stream",
          "name": "stdout",
          "text": [
            "cran.all.1400\n",
            "cran.qry\n",
            "cranqrel\n",
            "cranqrel.readme\n"
          ]
        }
      ],
      "source": [
        "! wget -q http://ir.dcs.gla.ac.uk/resources/test_collections/cran/cran.tar.gz\n",
        "! tar -xvf cran.tar.gz\n",
        "! rm cran.tar.gz*"
      ]
    },
    {
      "cell_type": "markdown",
      "source": [
        "Берём только сами запросы (это будут наши документы)"
      ],
      "metadata": {
        "id": "JVfea44oe70_"
      }
    },
    {
      "cell_type": "code",
      "source": [
        "! grep -v \"^\\.\" cran.qry > just.qry\n",
        "! head -3 just.qry"
      ],
      "metadata": {
        "colab": {
          "base_uri": "https://localhost:8080/"
        },
        "id": "SuS4sBS2e4eG",
        "outputId": "91c5240e-f91b-4159-c7a7-7909e35a3d88"
      },
      "execution_count": 112,
      "outputs": [
        {
          "output_type": "stream",
          "name": "stdout",
          "text": [
            "what similarity laws must be obeyed when constructing aeroelastic models\r\n",
            "of heated high speed aircraft .\r\n",
            "what are the structural and aeroelastic problems associated with flight\r\n"
          ]
        }
      ]
    },
    {
      "cell_type": "markdown",
      "source": [
        "Объединяем многострочные в один"
      ],
      "metadata": {
        "id": "cC-FkbUTq8HT"
      }
    },
    {
      "cell_type": "code",
      "source": [
        "raw_query_data = [line.strip() for line in open(\"just.qry\", \"r\").readlines()]\n",
        "query_data = [\"\"]\n",
        "\n",
        "for query_part in raw_query_data:\n",
        "  query_data[-1] += query_part + \" \"\n",
        "  if query_part.endswith(\".\"):\n",
        "    query_data.append(\"\")\n",
        "\n",
        "query_data[:2] #Выведем пару документов для примера"
      ],
      "metadata": {
        "colab": {
          "base_uri": "https://localhost:8080/"
        },
        "id": "8bSt5K-8rObj",
        "outputId": "f418ba0c-0e81-453f-bb03-a1a636fcd9b0"
      },
      "execution_count": 113,
      "outputs": [
        {
          "output_type": "execute_result",
          "data": {
            "text/plain": [
              "['what similarity laws must be obeyed when constructing aeroelastic models of heated high speed aircraft . ',\n",
              " 'what are the structural and aeroelastic problems associated with flight of high speed aircraft . ']"
            ]
          },
          "metadata": {},
          "execution_count": 113
        }
      ]
    },
    {
      "cell_type": "markdown",
      "source": [
        "Составим запросы к нашим документам"
      ],
      "metadata": {
        "id": "qcieAD8NsowP"
      }
    },
    {
      "cell_type": "code",
      "source": [
        "QUERIES = ['electronic computer', 'surface heat']"
      ],
      "metadata": {
        "id": "q8kVERyxsN1d"
      },
      "execution_count": 114,
      "outputs": []
    },
    {
      "cell_type": "markdown",
      "source": [
        "Boolean retrieval\n",
        "Представим каждый документ как \"битовую маску\": вектор размером со словарь, в котором на каждой позиции единица, если в документе есть соответсвующий терм, и ноль, если терма нет"
      ],
      "metadata": {
        "id": "VuaD2VKBsxvH"
      }
    },
    {
      "cell_type": "code",
      "source": [
        "# в разных версиях ответы могут отличаться, поэтому важно иметь одну и ту же\n",
        "! pip install -q scikit-learn==0.22.2.post1\n",
        "\n",
        "from  sklearn.feature_extraction.text import CountVectorizer\n",
        "\n",
        "encoder = CountVectorizer(binary=True)\n",
        "encoded_data = encoder.fit_transform(query_data)\n",
        "encoded_queries = encoder.transform(QUERIES)\n",
        "list(encoder.vocabulary_)[:3]"
      ],
      "metadata": {
        "colab": {
          "base_uri": "https://localhost:8080/"
        },
        "id": "UQ8rjB6ssxjJ",
        "outputId": "b25b5506-a495-48e0-f97b-9a90e5580110"
      },
      "execution_count": 115,
      "outputs": [
        {
          "output_type": "execute_result",
          "data": {
            "text/plain": [
              "['what', 'similarity', 'laws']"
            ]
          },
          "metadata": {},
          "execution_count": 115
        }
      ]
    },
    {
      "cell_type": "code",
      "source": [
        "id2term = {idx: term for term, idx in encoder.vocabulary_.items()}\n",
        "non_zero_values_ids = encoded_data[0].nonzero()[1]\n",
        "\n",
        "terms = [id2term[idx] for idx in non_zero_values_ids]\n",
        "terms"
      ],
      "metadata": {
        "colab": {
          "base_uri": "https://localhost:8080/"
        },
        "id": "pFq4-224JlrU",
        "outputId": "55bd6b1e-bd8e-4d15-a0a2-492d3d56e712"
      },
      "execution_count": 116,
      "outputs": [
        {
          "output_type": "execute_result",
          "data": {
            "text/plain": [
              "['what',\n",
              " 'similarity',\n",
              " 'laws',\n",
              " 'must',\n",
              " 'be',\n",
              " 'obeyed',\n",
              " 'when',\n",
              " 'constructing',\n",
              " 'aeroelastic',\n",
              " 'models',\n",
              " 'of',\n",
              " 'heated',\n",
              " 'high',\n",
              " 'speed',\n",
              " 'aircraft']"
            ]
          },
          "metadata": {},
          "execution_count": 116
        }
      ]
    },
    {
      "cell_type": "markdown",
      "source": [
        "**Задание 0**\n",
        "\n",
        "Теперь для каждого из данных запросов QUERIES найдём ближайший для него документ из query_data по сходству Жаккара. Есть более эффективные способы это сделать, но вам требуется реализовать расстояние Жаккара и далее применить его к нашим данным."
      ],
      "metadata": {
        "id": "Gr57iv8cL2wN"
      }
    },
    {
      "cell_type": "code",
      "source": [
        "import numpy as np \n",
        "from sklearn.metrics import jaccard_score\n",
        "def jaccard_sim(vector_a: np.array, vector_b: np.array) -> float:\n",
        "  \"\"\"\n",
        "    Сходство или коэффициент Жаккара: отношение мощности пересечения\n",
        "    к мощности объединения\n",
        "  \"\"\"\n",
        "  ins = np.logical_and(vector_a, vector_b)\n",
        "  uni = np.logical_or(vector_a,vector_b)\n",
        "  simil = ins.sum() / float(uni.sum())\n",
        "  return simil\n",
        "#Проверка, что функция работает правильно\n",
        "assert jaccard_sim(np.array([1, 0, 1, 0, 1]), np.array([0, 1, 1, 1, 1])) == 0.4\n",
        "print(jaccard_sim(np.array([1, 1, 1, 0, 1, 1, 1, 1, 1]), np.array([1, 1, 1, 1, 1, 0, 0 , 1, 0])))"
      ],
      "metadata": {
        "colab": {
          "base_uri": "https://localhost:8080/"
        },
        "id": "WCGrqXRML7DJ",
        "outputId": "c7c63730-b5aa-4653-91c6-b329acebcf10"
      },
      "execution_count": 117,
      "outputs": [
        {
          "output_type": "stream",
          "name": "stdout",
          "text": [
            "0.5555555555555556\n"
          ]
        }
      ]
    },
    {
      "cell_type": "markdown",
      "source": [
        "Теперь для наших запросов рассчитаем самые близкие документы"
      ],
      "metadata": {
        "id": "q7xLEO6pRt_Q"
      }
    },
    {
      "cell_type": "code",
      "source": [
        "for q_id, query in enumerate(encoded_queries):\n",
        "  # приводим к нужному типу\n",
        "  query = query.todense().A1\n",
        "  docs = [doc.todense().A1 for doc in encoded_data]\n",
        "  # вычисляем коэфф. Жаккара\n",
        "  id2doc2similarity = [(doc_id, doc, jaccard_sim(query, doc)) for doc_id, doc in enumerate(docs)]\n",
        "  # сортируем по нему\n",
        "  closest = sorted(id2doc2similarity, key=lambda x: x[2], reverse=True)\n",
        "  \n",
        "  print(\"Q: %s\\nFOUND:\" % QUERIES[q_id])\n",
        "  # выводим по 3 наиболее близких документа для каждого запроса\n",
        "  for closest_id, _, sim in closest[:3]:\n",
        "    print(\"    %d\\t%.2f\\t%s\" %(closest_id, sim, query_data[closest_id]))"
      ],
      "metadata": {
        "colab": {
          "base_uri": "https://localhost:8080/"
        },
        "id": "WVp4gkw5Rtkg",
        "outputId": "cca3d71c-d85c-4aca-91c2-88a8a700ab46"
      },
      "execution_count": 118,
      "outputs": [
        {
          "output_type": "stream",
          "name": "stdout",
          "text": [
            "Q: electronic computer\n",
            "FOUND:\n",
            "    15\t0.12\tcan the transverse potential flow about a body of revolution be calculated efficiently by an electronic computer . \n",
            "    128\t0.08\thas anyone programmed a pump design method for a high-speed digital computer . \n",
            "    0\t0.00\twhat similarity laws must be obeyed when constructing aeroelastic models of heated high speed aircraft . \n",
            "Q: surface heat\n",
            "FOUND:\n",
            "    45\t0.14\twhat is the combined effect of surface heat and mass transfer on hypersonic flow . \n",
            "    8\t0.11\tpapers on internal /slip flow/ heat transfer studies . \n",
            "    94\t0.10\twhat is the theoretical heat transfer distribution around a hemisphere . \n"
          ]
        }
      ]
    },
    {
      "cell_type": "markdown",
      "source": [
        "**VSM**\n",
        "\n",
        "Попробуем теперь сделать то же, но с tf-idf и косинусным расстоянием. Мы сделаем всё опять \"руками\", но \"в реальной жизни\" лучше использоватьесть эффективные реализации cosine distance, например, из библиотеки scipy."
      ],
      "metadata": {
        "id": "N70P1mJ8fu3V"
      }
    },
    {
      "cell_type": "code",
      "source": [
        "from  sklearn.feature_extraction.text import TfidfVectorizer\n",
        "\n",
        "# Совет: обязательно разберитесь с тем, какие возможности\n",
        "# предоставляет tf-idf vectorizer, какие параметры за что отвечают\n",
        "\n",
        "tfidf_encoder = TfidfVectorizer()\n",
        "tfidf_encoded_data = tfidf_encoder.fit_transform(query_data)\n",
        "tfidf_encoded_queries = tfidf_encoder.transform(QUERIES)\n",
        "\n",
        "list(tfidf_encoder.vocabulary_)[:3]"
      ],
      "metadata": {
        "colab": {
          "base_uri": "https://localhost:8080/"
        },
        "id": "A1HSQBq1enGL",
        "outputId": "7e03a1dc-f969-4aa7-b908-5cda24dd7c3a"
      },
      "execution_count": 119,
      "outputs": [
        {
          "output_type": "execute_result",
          "data": {
            "text/plain": [
              "['what', 'similarity', 'laws']"
            ]
          },
          "metadata": {},
          "execution_count": 119
        }
      ]
    },
    {
      "cell_type": "markdown",
      "source": [
        "**Задание 2**\n",
        "\n",
        "Реализовать косинусное расстояние"
      ],
      "metadata": {
        "id": "UCuFXRn1g9zR"
      }
    },
    {
      "cell_type": "code",
      "source": [
        "from numpy import linalg, dot\n",
        "\n",
        "def cosine_distance(vector_a: np.array, vector_b: np.array) -> float:\n",
        "  \"\"\"\n",
        "    Косинусное расстояние: единица минус отношение скалярного произведения\n",
        "    на произведение L2-норм (подсказка: в numpy такие нормы есть)\n",
        "  \"\"\"\n",
        "  return  1 - dot(vector_a,vector_b) / (linalg.norm(vector_a) * linalg.norm(vector_b))\n",
        "#Проверка, что функция работает правильно\n",
        "assert cosine_distance(np.array([1, 0, 1, 1, 1]), np.array([0, 0, 1, 0, 0])) == 0.5\n"
      ],
      "metadata": {
        "id": "BiHTIh8Yg8AS"
      },
      "execution_count": 120,
      "outputs": []
    },
    {
      "cell_type": "markdown",
      "source": [
        "Теперь вычислим ближайшие по косинусному расстоянию между векторными представлениями документов и запросов"
      ],
      "metadata": {
        "id": "cPbZKWlZjuBT"
      }
    },
    {
      "cell_type": "code",
      "source": [
        "for q_id, query in enumerate(tfidf_encoded_queries):\n",
        "  \n",
        "  # приводим к нужному типу\n",
        "  query = query.todense().A1\n",
        "  docs = [doc.todense().A1 for doc in tfidf_encoded_data]\n",
        "  # Косинусное расстояние\n",
        "  id2doc2similarity = [(doc_id, doc, cosine_distance(query, doc)) \\\n",
        "                       for doc_id, doc in enumerate(docs)]\n",
        "  # сортируем по нему\n",
        "  closest = sorted(id2doc2similarity, key=lambda x: x[2], reverse=False)\n",
        "  \n",
        "  print(\"Q: %s\\nFOUND:\" % QUERIES[q_id])\n",
        "  \n",
        "  for closest_id, _, sim in closest[:3]:\n",
        "    print(\"    %d\\t%.2f\\t%s\" %(closest_id, sim, query_data[closest_id]))"
      ],
      "metadata": {
        "colab": {
          "base_uri": "https://localhost:8080/"
        },
        "id": "zld8SBQcjtqF",
        "outputId": "42f0547c-3926-4fd9-af58-d79284eb4995"
      },
      "execution_count": 123,
      "outputs": [
        {
          "output_type": "stream",
          "name": "stdout",
          "text": [
            "Q: electronic computer\n",
            "FOUND:\n",
            "    15\t0.53\tcan the transverse potential flow about a body of revolution be calculated efficiently by an electronic computer . \n",
            "    128\t0.76\thas anyone programmed a pump design method for a high-speed digital computer . \n",
            "    0\t1.00\twhat similarity laws must be obeyed when constructing aeroelastic models of heated high speed aircraft . \n",
            "Q: surface heat\n",
            "FOUND:\n",
            "    45\t0.56\twhat is the combined effect of surface heat and mass transfer on hypersonic flow . \n",
            "    44\t0.76\thas anyone investigated the effect of surface mass transfer on hypersonic viscous interactions . \n",
            "    127\t0.76\tis it possible to obtain a reasonably simple analytical solution to the heat equation for an exponential (in time) heat input . \n"
          ]
        },
        {
          "output_type": "stream",
          "name": "stderr",
          "text": [
            "<ipython-input-120-dbec1cae7a5c>:8: RuntimeWarning: invalid value encountered in double_scalars\n",
            "  return  1 - dot(vector_a,vector_b) / (linalg.norm(vector_a) * linalg.norm(vector_b))\n"
          ]
        }
      ]
    }
  ]
}
